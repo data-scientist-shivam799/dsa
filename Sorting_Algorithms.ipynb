{
  "nbformat": 4,
  "nbformat_minor": 0,
  "metadata": {
    "colab": {
      "name": "Sorting Algorithms.ipynb",
      "provenance": [],
      "collapsed_sections": []
    },
    "kernelspec": {
      "name": "python3",
      "display_name": "Python 3"
    },
    "language_info": {
      "name": "python"
    }
  },
  "cells": [
    {
      "cell_type": "markdown",
      "source": [
        "## **Q. Write a program to sort a list of numbers**"
      ],
      "metadata": {
        "id": "Lk4RIPo1f171"
      }
    },
    {
      "cell_type": "code",
      "source": [
        "# !pip install jovian "
      ],
      "metadata": {
        "id": "BABaB4gTofkm"
      },
      "execution_count": 1,
      "outputs": []
    },
    {
      "cell_type": "code",
      "execution_count": 2,
      "metadata": {
        "id": "6ST9Eg8lcFkg"
      },
      "outputs": [],
      "source": [
        "nums=[4,2,6,3,4,6,2,1]"
      ]
    },
    {
      "cell_type": "code",
      "source": [
        "def sort(nums):\n",
        "    pass"
      ],
      "metadata": {
        "id": "MhXpJXMygirF"
      },
      "execution_count": 3,
      "outputs": []
    },
    {
      "cell_type": "markdown",
      "source": [
        "## **Creating Test Cases**"
      ],
      "metadata": {
        "id": "5qkbqIrwhhyo"
      }
    },
    {
      "cell_type": "code",
      "source": [
        "# List of numbers in random order\n",
        "test0 = {\n",
        "    'input': {\n",
        "        'nums': [4, 2, 6, 3, 4, 6, 2, 1]\n",
        "    },\n",
        "    'output': [1, 2, 2, 3, 4, 4, 6, 6]\n",
        "}"
      ],
      "metadata": {
        "id": "E0oU9KJhhlMj"
      },
      "execution_count": 4,
      "outputs": []
    },
    {
      "cell_type": "code",
      "source": [
        "# List of numbers in random order\n",
        "test1 = {\n",
        "    'input': {\n",
        "        'nums': [5, 2, 6, 1, 23, 7, -12, 12, -243, 0]\n",
        "    },\n",
        "    'output': [-243, -12, 0, 1, 2, 5, 6, 7, 12, 23]\n",
        "}"
      ],
      "metadata": {
        "id": "e4Uy54VDhmcr"
      },
      "execution_count": 5,
      "outputs": []
    },
    {
      "cell_type": "code",
      "source": [
        "# A list that's already sorted\n",
        "test2 = {\n",
        "    'input': {\n",
        "        'nums': [3, 5, 6, 8, 9, 10, 99]\n",
        "    },\n",
        "    'output': [3, 5, 6, 8, 9, 10, 99]\n",
        "}"
      ],
      "metadata": {
        "id": "jHqxtEcYhn_s"
      },
      "execution_count": 6,
      "outputs": []
    },
    {
      "cell_type": "code",
      "source": [
        "# A list that's sorted in descending order\n",
        "test3 = {\n",
        "    'input': {\n",
        "        'nums': [99, 10, 9, 8, 6, 5, 3]\n",
        "    },\n",
        "    'output': [3, 5, 6, 8, 9, 10, 99]\n",
        "}"
      ],
      "metadata": {
        "id": "kO5gC-fHhpem"
      },
      "execution_count": 7,
      "outputs": []
    },
    {
      "cell_type": "code",
      "source": [
        "# A list containing repeating elements\n",
        "test4 = {\n",
        "    'input': {\n",
        "        'nums': [5, -12, 2, 6, 1, 23, 7, 7, -12, 6, 12, 1, -243, 1, 0]\n",
        "    },\n",
        "    'output': [-243, -12, -12, 0, 1, 1, 1, 2, 5, 6, 6, 7, 7, 12, 23]\n",
        "}"
      ],
      "metadata": {
        "id": "pm9nyixuhrkT"
      },
      "execution_count": 8,
      "outputs": []
    },
    {
      "cell_type": "code",
      "source": [
        "# An empty list \n",
        "test5 = {\n",
        "    'input': {\n",
        "        'nums': []\n",
        "    },\n",
        "    'output': []\n",
        "}"
      ],
      "metadata": {
        "id": "m1llNGG5htt5"
      },
      "execution_count": 9,
      "outputs": []
    },
    {
      "cell_type": "code",
      "source": [
        "# A list containing just one element\n",
        "test6 = {\n",
        "    'input': {\n",
        "        'nums': [23]\n",
        "    },\n",
        "    'output': [23]\n",
        "}"
      ],
      "metadata": {
        "id": "QTWXZDLLhvHF"
      },
      "execution_count": 10,
      "outputs": []
    },
    {
      "cell_type": "code",
      "source": [
        "# A list containing one element repeated many times\n",
        "test7 = {\n",
        "    'input': {\n",
        "        'nums': [42, 42, 42, 42, 42, 42, 42]\n",
        "    },\n",
        "    'output': [42, 42, 42, 42, 42, 42, 42]\n",
        "}"
      ],
      "metadata": {
        "id": "DZYBDIbRhwtj"
      },
      "execution_count": 11,
      "outputs": []
    },
    {
      "cell_type": "code",
      "source": [
        "import random\n",
        "\n",
        "in_list = list(range(10000))\n",
        "out_list = list(range(10000))\n",
        "random.shuffle(in_list)\n",
        "\n",
        "test8 = {\n",
        "    'input': {\n",
        "        'nums': in_list\n",
        "    },\n",
        "    'output': out_list\n",
        "}"
      ],
      "metadata": {
        "id": "ZoeXsO26hz5j"
      },
      "execution_count": 12,
      "outputs": []
    },
    {
      "cell_type": "code",
      "source": [
        "tests = [test0, test1, test2, test3, test4, test5, test6, test7, test8]"
      ],
      "metadata": {
        "id": "phO-ZJNSiHf8"
      },
      "execution_count": 13,
      "outputs": []
    },
    {
      "cell_type": "code",
      "source": [
        "def bubble_sort(nums):\n",
        "    # create a copy of the list, to avoid changing it\n",
        "    nums=list(nums)\n",
        "    # 4.Repeat the process (n-1) times\n",
        "    for _ in range(len(nums)-1):\n",
        "        # 1.Iterate over the array (except last element)\n",
        "        for i in range(len(nums)-1):\n",
        "            # 2.Compare the numbers\n",
        "            if nums[i]>nums[i+1]:\n",
        "                # 3.Swap the two elements\n",
        "                nums[i],nums[i+1]=nums[i+1],nums[i]\n",
        "    # return the sorted list\n",
        "    return nums "
      ],
      "metadata": {
        "id": "0MVWURsTiJzL"
      },
      "execution_count": 14,
      "outputs": []
    },
    {
      "cell_type": "markdown",
      "source": [
        "**Testing the bubble sort algorithm with test cases manually**"
      ],
      "metadata": {
        "id": "mf9EqcNlmHM0"
      }
    },
    {
      "cell_type": "code",
      "source": [
        "nums0,output0=test0['input']['nums'],test0['output']\n",
        "print('Input:',nums0)\n",
        "print('Expected Output:',output0)\n",
        "\n",
        "result0=bubble_sort(nums0)\n",
        "\n",
        "print('Actual Output:',result0)\n",
        "print('Match:',result0==output0)"
      ],
      "metadata": {
        "colab": {
          "base_uri": "https://localhost:8080/"
        },
        "id": "ejnJvfd0ls0T",
        "outputId": "e5af1642-3185-4573-af77-1bbee5f0b2a2"
      },
      "execution_count": 15,
      "outputs": [
        {
          "output_type": "stream",
          "name": "stdout",
          "text": [
            "Input: [4, 2, 6, 3, 4, 6, 2, 1]\n",
            "Expected Output: [1, 2, 2, 3, 4, 4, 6, 6]\n",
            "Actual Output: [1, 2, 2, 3, 4, 4, 6, 6]\n",
            "Match: True\n"
          ]
        }
      ]
    },
    {
      "cell_type": "markdown",
      "source": [
        "**Testing the bubble sort algorithm with test cases with jovian library**"
      ],
      "metadata": {
        "id": "pMXwhUb-m7BX"
      }
    },
    {
      "cell_type": "code",
      "source": [
        "# !pip install jovian --upgrade --quiet"
      ],
      "metadata": {
        "id": "AmR86i6Pmzeo"
      },
      "execution_count": 16,
      "outputs": []
    },
    {
      "cell_type": "code",
      "source": [
        "# from jovian.pythondsa import evaluate_test_cases"
      ],
      "metadata": {
        "id": "NPEYlnBbnPZQ"
      },
      "execution_count": 17,
      "outputs": []
    },
    {
      "cell_type": "code",
      "source": [
        "# results=evaluate_test_cases(bubble_sort,tests)"
      ],
      "metadata": {
        "id": "icXf7vyEnYYX"
      },
      "execution_count": 18,
      "outputs": []
    },
    {
      "cell_type": "markdown",
      "source": [
        "**Time Complexiety Of Bubble Sort: O(n^2)**\n",
        "\n",
        "---\n",
        "\n",
        "\n",
        "**Space Complexiety Of Bubble Sort: O(n)**"
      ],
      "metadata": {
        "id": "9Gtb_XsDoMzU"
      }
    },
    {
      "cell_type": "markdown",
      "source": [
        "# **Insertion Sort**"
      ],
      "metadata": {
        "id": "C8zX7b3uqvxs"
      }
    },
    {
      "cell_type": "code",
      "source": [
        "def insertion_sort(nums):\n",
        "    nums=list(nums)\n",
        "    for i in range(len(nums)):\n",
        "        cur=nums[i]\n",
        "        j=i-1\n",
        "        while j>=0 and nums[j]>cur:\n",
        "            nums[j+1]=nums[j]\n",
        "            j-=1\n",
        "        nums[j+1]=cur\n",
        "    return nums "
      ],
      "metadata": {
        "id": "hSJUpVPnneYy"
      },
      "execution_count": 19,
      "outputs": []
    },
    {
      "cell_type": "code",
      "source": [
        "# evaluate_test_cases(insertion_sort,tests)"
      ],
      "metadata": {
        "id": "L-ec_k8vsLn1"
      },
      "execution_count": 20,
      "outputs": []
    },
    {
      "cell_type": "markdown",
      "source": [
        "**Time Complexity of Insertions Sort: O(n^2)**\n",
        "\n",
        "---\n",
        "\n",
        "**Space Complexity of Insertion Sort: O(1)**"
      ],
      "metadata": {
        "id": "-Nozt-Q46Y2D"
      }
    },
    {
      "cell_type": "markdown",
      "source": [
        "# **Divide & Conquer**"
      ],
      "metadata": {
        "id": "_tG5cjQA6snV"
      }
    },
    {
      "cell_type": "markdown",
      "source": [
        "# **Merge Sort**"
      ],
      "metadata": {
        "id": "2zZxx7cT8KOx"
      }
    },
    {
      "cell_type": "markdown",
      "source": [
        "**Q. Write a function to merge two sorted list**"
      ],
      "metadata": {
        "id": "zrwzNeh78yEc"
      }
    },
    {
      "cell_type": "code",
      "source": [
        "# Helper function\n",
        "def merge(nums1, nums2):    \n",
        "    # List to store the results \n",
        "    merged = []\n",
        "    # Indices for iteration\n",
        "    i, j = 0, 0\n",
        "    # Loop over the two lists\n",
        "    while i < len(nums1) and j < len(nums2):        \n",
        "        # Include the smaller element in the result and move to next element\n",
        "        if nums1[i] <= nums2[j]:\n",
        "            merged.append(nums1[i])\n",
        "            i += 1 \n",
        "        else:\n",
        "            merged.append(nums2[j])\n",
        "            j += 1\n",
        "    # Get the remaining parts\n",
        "    nums1_tail = nums1[i:]\n",
        "    nums2_tail = nums2[j:]\n",
        "    # Return the final merged array\n",
        "    return merged + nums1_tail + nums2_tail"
      ],
      "metadata": {
        "id": "yHIiKmhRnF6D"
      },
      "execution_count": 21,
      "outputs": []
    },
    {
      "cell_type": "code",
      "source": [
        "def merge_sort(nums):\n",
        "    # Using recursion\n",
        "    # Terminating condition (list of 0 or 1 element)\n",
        "    if len(nums)<2:\n",
        "        return nums\n",
        "    # Getting the mid point\n",
        "    mid=len(nums)//2\n",
        "    # Split the list into two halves\n",
        "    left=nums[:mid]\n",
        "    right=nums[mid:]\n",
        "    # Solve the problem for each half, recursively\n",
        "    left_sorted,right_sorted=merge_sort(left),merge_sort(right)\n",
        "    # Combine the result for each half using helper function\n",
        "    sorted_nums=merge(left_sorted,right_sorted)\n",
        "    return sorted_nums"
      ],
      "metadata": {
        "id": "32qv6BjY-cBy"
      },
      "execution_count": 22,
      "outputs": []
    },
    {
      "cell_type": "code",
      "source": [
        "# !pip install jovian --quiet"
      ],
      "metadata": {
        "id": "Rlvjes3dDnim"
      },
      "execution_count": 23,
      "outputs": []
    },
    {
      "cell_type": "code",
      "source": [
        "# from jovian.pythondsa import evaluate_test_cases"
      ],
      "metadata": {
        "id": "xUDovtjfATPH"
      },
      "execution_count": 24,
      "outputs": []
    },
    {
      "cell_type": "code",
      "source": [
        "# evaluate_test_cases(merge_sort,tests)"
      ],
      "metadata": {
        "id": "NkIdoqIDDuLU"
      },
      "execution_count": 25,
      "outputs": []
    },
    {
      "cell_type": "markdown",
      "source": [
        "# **Quick Sort**\n",
        "Another algorithm based on divide & conquer algorithm"
      ],
      "metadata": {
        "id": "nolQNmL6k1RI"
      }
    },
    {
      "cell_type": "code",
      "source": [
        "def partition(nums, start=0, end=None):\n",
        "    # print('partition', nums, start, end)\n",
        "    if end is None:\n",
        "        end = len(nums) - 1\n",
        "    \n",
        "    # Initialize right and left pointers\n",
        "    l, r = start, end-1\n",
        "    \n",
        "    # Iterate while they're apart\n",
        "    while r > l:\n",
        "        # print('  ', nums, l, r)\n",
        "        # Increment left pointer if number is less or equal to pivot\n",
        "        if nums[l] <= nums[end]:\n",
        "            l += 1\n",
        "        \n",
        "        # Decrement right pointer if number is greater than pivot\n",
        "        elif nums[r] > nums[end]:\n",
        "            r -= 1\n",
        "        \n",
        "        # Two out-of-place elements found, swap them\n",
        "        else:\n",
        "            nums[l], nums[r] = nums[r], nums[l]\n",
        "    # print('  ', nums, l, r)\n",
        "    # Place the pivot between the two parts\n",
        "    if nums[l] > nums[end]:\n",
        "        nums[l], nums[end] = nums[end], nums[l]\n",
        "        return l\n",
        "    else:\n",
        "        return end"
      ],
      "metadata": {
        "id": "XYJ0P1B3k07f"
      },
      "execution_count": 26,
      "outputs": []
    },
    {
      "cell_type": "code",
      "source": [
        "l1=[1,5,6,2,0,11,3]\n",
        "pivot=partition(l1)\n",
        "print(pivot)"
      ],
      "metadata": {
        "colab": {
          "base_uri": "https://localhost:8080/"
        },
        "id": "71HLY64qiybQ",
        "outputId": "6022053e-81f4-4e6b-9c47-86b2eae82c5e"
      },
      "execution_count": 27,
      "outputs": [
        {
          "output_type": "stream",
          "name": "stdout",
          "text": [
            "3\n"
          ]
        }
      ]
    },
    {
      "cell_type": "code",
      "source": [
        "def quicksort(nums, start=0, end=None):\n",
        "    # print('quicksort', nums, start, end)\n",
        "    if end is None:\n",
        "        nums = list(nums)\n",
        "        end = len(nums) - 1\n",
        "    \n",
        "    if start < end:\n",
        "        pivot = partition(nums, start, end)\n",
        "        quicksort(nums, start, pivot-1)\n",
        "        quicksort(nums, pivot+1, end)\n",
        "\n",
        "    return nums"
      ],
      "metadata": {
        "id": "ir0E7x_cyREi"
      },
      "execution_count": 28,
      "outputs": []
    },
    {
      "cell_type": "code",
      "source": [
        "quicksort([3,3,5,23,4,2,3,23])"
      ],
      "metadata": {
        "colab": {
          "base_uri": "https://localhost:8080/"
        },
        "id": "ZW6HEOB8zVP-",
        "outputId": "40aa195b-f298-4751-9018-3da529130aad"
      },
      "execution_count": 29,
      "outputs": [
        {
          "output_type": "execute_result",
          "data": {
            "text/plain": [
              "[2, 3, 3, 3, 4, 5, 23, 23]"
            ]
          },
          "metadata": {},
          "execution_count": 29
        }
      ]
    },
    {
      "cell_type": "code",
      "source": [
        "nums0,output0=test0['input']['nums'],test0['output']\n",
        "\n",
        "print(\"Input:\",nums0)\n",
        "print(\"Expected output:\",output0)\n",
        "result0=quicksort(nums0)\n",
        "print('Actual output:',result0)\n",
        "print('Match:',result0==output0)"
      ],
      "metadata": {
        "id": "NBP_VoDHzeA4",
        "colab": {
          "base_uri": "https://localhost:8080/"
        },
        "outputId": "fbf4e7b1-fa3a-4746-b663-7c25e611e17c"
      },
      "execution_count": 30,
      "outputs": [
        {
          "output_type": "stream",
          "name": "stdout",
          "text": [
            "Input: [4, 2, 6, 3, 4, 6, 2, 1]\n",
            "Expected output: [1, 2, 2, 3, 4, 4, 6, 6]\n",
            "Actual output: [1, 2, 2, 3, 4, 4, 6, 6]\n",
            "Match: True\n"
          ]
        }
      ]
    },
    {
      "cell_type": "code",
      "source": [
        "from jovian.pythondsa import evaluate_test_cases\n",
        "results=evaluate_test_cases(quicksort,tests)"
      ],
      "metadata": {
        "colab": {
          "base_uri": "https://localhost:8080/"
        },
        "id": "qlqYyIggoBVX",
        "outputId": "08763ab7-b634-4b2f-a787-d2763a785794"
      },
      "execution_count": 31,
      "outputs": [
        {
          "output_type": "stream",
          "name": "stdout",
          "text": [
            "\n",
            "\u001b[1mTEST CASE #0\u001b[0m\n",
            "\n",
            "Input:\n",
            "{'nums': [4, 2, 6, 3, 4, 6, 2, 1]}\n",
            "\n",
            "Expected Output:\n",
            "[1, 2, 2, 3, 4, 4, 6, 6]\n",
            "\n",
            "\n",
            "Actual Output:\n",
            "[1, 2, 2, 3, 4, 4, 6, 6]\n",
            "\n",
            "Execution Time:\n",
            "0.021 ms\n",
            "\n",
            "Test Result:\n",
            "\u001b[92mPASSED\u001b[0m\n",
            "\n",
            "\n",
            "\u001b[1mTEST CASE #1\u001b[0m\n",
            "\n",
            "Input:\n",
            "{'nums': [5, 2, 6, 1, 23, 7, -12, 12, -243, 0]}\n",
            "\n",
            "Expected Output:\n",
            "[-243, -12, 0, 1, 2, 5, 6, 7, 12, 23]\n",
            "\n",
            "\n",
            "Actual Output:\n",
            "[-243, -12, 0, 1, 2, 5, 6, 7, 12, 23]\n",
            "\n",
            "Execution Time:\n",
            "0.023 ms\n",
            "\n",
            "Test Result:\n",
            "\u001b[92mPASSED\u001b[0m\n",
            "\n",
            "\n",
            "\u001b[1mTEST CASE #2\u001b[0m\n",
            "\n",
            "Input:\n",
            "{'nums': [3, 5, 6, 8, 9, 10, 99]}\n",
            "\n",
            "Expected Output:\n",
            "[3, 5, 6, 8, 9, 10, 99]\n",
            "\n",
            "\n",
            "Actual Output:\n",
            "[3, 5, 6, 8, 9, 10, 99]\n",
            "\n",
            "Execution Time:\n",
            "0.017 ms\n",
            "\n",
            "Test Result:\n",
            "\u001b[92mPASSED\u001b[0m\n",
            "\n",
            "\n",
            "\u001b[1mTEST CASE #3\u001b[0m\n",
            "\n",
            "Input:\n",
            "{'nums': [99, 10, 9, 8, 6, 5, 3]}\n",
            "\n",
            "Expected Output:\n",
            "[3, 5, 6, 8, 9, 10, 99]\n",
            "\n",
            "\n",
            "Actual Output:\n",
            "[3, 5, 6, 8, 9, 10, 99]\n",
            "\n",
            "Execution Time:\n",
            "0.023 ms\n",
            "\n",
            "Test Result:\n",
            "\u001b[92mPASSED\u001b[0m\n",
            "\n",
            "\n",
            "\u001b[1mTEST CASE #4\u001b[0m\n",
            "\n",
            "Input:\n",
            "{'nums': [5, -12, 2, 6, 1, 23, 7, 7, -12, 6, 12, 1, -243, 1, 0]}\n",
            "\n",
            "Expected Output:\n",
            "[-243, -12, -12, 0, 1, 1, 1, 2, 5, 6, 6, 7, 7, 12, 23]\n",
            "\n",
            "\n",
            "Actual Output:\n",
            "[-243, -12, -12, 0, 1, 1, 1, 2, 5, 6, 6, 7, 7, 12, 23]\n",
            "\n",
            "Execution Time:\n",
            "0.037 ms\n",
            "\n",
            "Test Result:\n",
            "\u001b[92mPASSED\u001b[0m\n",
            "\n",
            "\n",
            "\u001b[1mTEST CASE #5\u001b[0m\n",
            "\n",
            "Input:\n",
            "{'nums': []}\n",
            "\n",
            "Expected Output:\n",
            "[]\n",
            "\n",
            "\n",
            "Actual Output:\n",
            "[]\n",
            "\n",
            "Execution Time:\n",
            "0.004 ms\n",
            "\n",
            "Test Result:\n",
            "\u001b[92mPASSED\u001b[0m\n",
            "\n",
            "\n",
            "\u001b[1mTEST CASE #6\u001b[0m\n",
            "\n",
            "Input:\n",
            "{'nums': [23]}\n",
            "\n",
            "Expected Output:\n",
            "[23]\n",
            "\n",
            "\n",
            "Actual Output:\n",
            "[23]\n",
            "\n",
            "Execution Time:\n",
            "0.004 ms\n",
            "\n",
            "Test Result:\n",
            "\u001b[92mPASSED\u001b[0m\n",
            "\n",
            "\n",
            "\u001b[1mTEST CASE #7\u001b[0m\n",
            "\n",
            "Input:\n",
            "{'nums': [42, 42, 42, 42, 42, 42, 42]}\n",
            "\n",
            "Expected Output:\n",
            "[42, 42, 42, 42, 42, 42, 42]\n",
            "\n",
            "\n",
            "Actual Output:\n",
            "[42, 42, 42, 42, 42, 42, 42]\n",
            "\n",
            "Execution Time:\n",
            "0.019 ms\n",
            "\n",
            "Test Result:\n",
            "\u001b[92mPASSED\u001b[0m\n",
            "\n",
            "\n",
            "\u001b[1mTEST CASE #8\u001b[0m\n",
            "\n",
            "Input:\n",
            "{'nums': [2160, 5815, 1326, 4410, 8481, 2668, 7618, 302, 9918, 2576, 7491, 4632, 7132, 7432, 3519, 8...\n",
            "\n",
            "Expected Output:\n",
            "[0, 1, 2, 3, 4, 5, 6, 7, 8, 9, 10, 11, 12, 13, 14, 15, 16, 17, 18, 19, 20, 21, 22, 23, 24, 25, 26, 2...\n",
            "\n",
            "\n",
            "Actual Output:\n",
            "[0, 1, 2, 3, 4, 5, 6, 7, 8, 9, 10, 11, 12, 13, 14, 15, 16, 17, 18, 19, 20, 21, 22, 23, 24, 25, 26, 2...\n",
            "\n",
            "Execution Time:\n",
            "53.914 ms\n",
            "\n",
            "Test Result:\n",
            "\u001b[92mPASSED\u001b[0m\n",
            "\n",
            "\n",
            "\u001b[1mSUMMARY\u001b[0m\n",
            "\n",
            "TOTAL: 9, \u001b[92mPASSED\u001b[0m: 9, \u001b[91mFAILED\u001b[0m: 0\n"
          ]
        }
      ]
    },
    {
      "cell_type": "markdown",
      "source": [
        "**Time Complexiety** - O(nlogn) \n",
        "**Space Complexiety** - O(1)"
      ],
      "metadata": {
        "id": "LzexmzeOpKGB"
      }
    },
    {
      "cell_type": "markdown",
      "source": [
        "**Question** - You are working on a new feature on jovian called \"Top Notebooks of The Week\". Write a function to sort a list of notebooks can be created every week, so your function needs to be as efficient as possible. "
      ],
      "metadata": {
        "id": "gm2tavaCqzA3"
      }
    },
    {
      "cell_type": "code",
      "source": [
        "class Notebook:\n",
        "    def __init__(self,title,username,likes):\n",
        "        self.title,self.username,self.likes=title,username,likes\n",
        "    def __repr__(self):\n",
        "        return 'Notebook <\"{}/{}\", {} likes>'.format(self.username,self.title,self.likes)"
      ],
      "metadata": {
        "id": "FdvaZwlBocbx"
      },
      "execution_count": 32,
      "outputs": []
    },
    {
      "cell_type": "code",
      "source": [
        "nb0=Notebook('Naruto','Shivam',789)\n",
        "nb1=Notebook('One-Piece','Sanket',501)\n",
        "nb2=Notebook('Code-M','Ritika',456)\n",
        "nb3=Notebook('Splits-villa','Nidhi',455)\n",
        "nb4=Notebook('Pushpa','Rohan',780)\n",
        "nb5=Notebook('KGF','Aman',900)\n",
        "nb6=Notebook('KGF-Two','Nitesh',1032)"
      ],
      "metadata": {
        "id": "4bipjv8nr4H1"
      },
      "execution_count": 33,
      "outputs": []
    },
    {
      "cell_type": "code",
      "source": [
        "notebooks=[nb0,nb1,nb2,nb3,nb4,nb5,nb6]"
      ],
      "metadata": {
        "id": "oV7jKEN9tNT8"
      },
      "execution_count": 34,
      "outputs": []
    },
    {
      "cell_type": "code",
      "source": [
        "notebooks"
      ],
      "metadata": {
        "colab": {
          "base_uri": "https://localhost:8080/"
        },
        "id": "nhH9qFjHtbKK",
        "outputId": "93a195de-de7a-4ff3-d642-e7d16fbe6dbf"
      },
      "execution_count": 35,
      "outputs": [
        {
          "output_type": "execute_result",
          "data": {
            "text/plain": [
              "[Notebook <\"Shivam/Naruto\", 789 likes>,\n",
              " Notebook <\"Sanket/One-Piece\", 501 likes>,\n",
              " Notebook <\"Ritika/Code-M\", 456 likes>,\n",
              " Notebook <\"Nidhi/Splits-villa\", 455 likes>,\n",
              " Notebook <\"Rohan/Pushpa\", 780 likes>,\n",
              " Notebook <\"Aman/KGF\", 900 likes>,\n",
              " Notebook <\"Nitesh/KGF-Two\", 1032 likes>]"
            ]
          },
          "metadata": {},
          "execution_count": 35
        }
      ]
    },
    {
      "cell_type": "code",
      "source": [
        "def compare_likes(nb1,nb2):\n",
        "    if nb1.likes>nb2.likes:\n",
        "        return 'lesser'\n",
        "    elif nb1.likes==nb2.likes:\n",
        "        return 'equal'\n",
        "    elif nb1.likes<nb2.likes:\n",
        "        return 'greater'"
      ],
      "metadata": {
        "id": "Squ6DQ71wc50"
      },
      "execution_count": 36,
      "outputs": []
    },
    {
      "cell_type": "code",
      "source": [
        "def default_compare(x,y):\n",
        "    if x<y:\n",
        "        return 'lesser'\n",
        "    elif x==y:\n",
        "        return 'equal'\n",
        "    else: \n",
        "        return 'greater'\n",
        "\n",
        "def merge_sort(objs,compare=default_compare):\n",
        "    if len(objs)<2:\n",
        "        return objs\n",
        "    mid=len(objs)//2\n",
        "    return merge(merge_sort(objs[:mid],compare),\n",
        "                 merge_sort(objs[mid:],compare),\n",
        "                 compare)\n",
        "    \n",
        "def merge(left,right,compare):\n",
        "    i,j,merged=0,0,[]\n",
        "    while i<len(left) and j<len(right):\n",
        "        result=compare(left[i],right[j])\n",
        "        if result=='lesser' or result=='equal':\n",
        "            merged.append(left[i])\n",
        "            i+=1\n",
        "        else:\n",
        "            merged.append(right[j])\n",
        "            j+=1\n",
        "    return merged+left[i:]+right[j:]"
      ],
      "metadata": {
        "id": "TdnbqWEXtdly"
      },
      "execution_count": 37,
      "outputs": []
    },
    {
      "cell_type": "code",
      "source": [
        "sorted_notebooks=merge_sort(notebooks,compare_likes)\n",
        "sorted_notebooks"
      ],
      "metadata": {
        "colab": {
          "base_uri": "https://localhost:8080/"
        },
        "id": "Ja8Bkzx8wRbT",
        "outputId": "7a468021-7808-4230-f392-89063a689643"
      },
      "execution_count": 38,
      "outputs": [
        {
          "output_type": "execute_result",
          "data": {
            "text/plain": [
              "[Notebook <\"Nitesh/KGF-Two\", 1032 likes>,\n",
              " Notebook <\"Aman/KGF\", 900 likes>,\n",
              " Notebook <\"Shivam/Naruto\", 789 likes>,\n",
              " Notebook <\"Rohan/Pushpa\", 780 likes>,\n",
              " Notebook <\"Sanket/One-Piece\", 501 likes>,\n",
              " Notebook <\"Ritika/Code-M\", 456 likes>,\n",
              " Notebook <\"Nidhi/Splits-villa\", 455 likes>]"
            ]
          },
          "metadata": {},
          "execution_count": 38
        }
      ]
    },
    {
      "cell_type": "code",
      "source": [
        "def compare_titles(nb1,nb2):\n",
        "    if nb1.title>nb2.title:\n",
        "        return 'lesser'\n",
        "    elif nb1.title==nb2.title:\n",
        "        return 'equal'\n",
        "    elif nb1.title<nb2.title:\n",
        "        return 'greater'"
      ],
      "metadata": {
        "id": "FU40xWOGw6iW"
      },
      "execution_count": 39,
      "outputs": []
    },
    {
      "cell_type": "code",
      "source": [
        "merge_sort(notebooks,compare_titles)"
      ],
      "metadata": {
        "colab": {
          "base_uri": "https://localhost:8080/"
        },
        "id": "sIGMUCJTxWoh",
        "outputId": "e28e85e7-00aa-4210-c7b2-5532a84c6ffe"
      },
      "execution_count": 40,
      "outputs": [
        {
          "output_type": "execute_result",
          "data": {
            "text/plain": [
              "[Notebook <\"Nidhi/Splits-villa\", 455 likes>,\n",
              " Notebook <\"Rohan/Pushpa\", 780 likes>,\n",
              " Notebook <\"Sanket/One-Piece\", 501 likes>,\n",
              " Notebook <\"Shivam/Naruto\", 789 likes>,\n",
              " Notebook <\"Nitesh/KGF-Two\", 1032 likes>,\n",
              " Notebook <\"Aman/KGF\", 900 likes>,\n",
              " Notebook <\"Ritika/Code-M\", 456 likes>]"
            ]
          },
          "metadata": {},
          "execution_count": 40
        }
      ]
    }
  ]
}