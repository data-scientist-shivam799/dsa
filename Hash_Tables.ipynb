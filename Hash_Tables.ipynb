{
  "nbformat": 4,
  "nbformat_minor": 0,
  "metadata": {
    "colab": {
      "name": "Hash_Tables.ipynb",
      "provenance": [],
      "collapsed_sections": []
    },
    "kernelspec": {
      "name": "python3",
      "display_name": "Python 3"
    },
    "language_info": {
      "name": "python"
    }
  },
  "cells": [
    {
      "cell_type": "code",
      "execution_count": 1,
      "metadata": {
        "id": "MchmD4S4Lo2E"
      },
      "outputs": [],
      "source": [
        "phone_numbers={\n",
        "    'Mummy':'7992460934',\n",
        "    'Papa':'9308542390',\n",
        "    'Shivam':'7061726881'\n",
        "}"
      ]
    },
    {
      "cell_type": "code",
      "source": [
        "phone_numbers['Shivam']"
      ],
      "metadata": {
        "colab": {
          "base_uri": "https://localhost:8080/",
          "height": 36
        },
        "id": "9K99oE94LuXs",
        "outputId": "47888902-fc4d-499f-f7a3-ceac702440c7"
      },
      "execution_count": 2,
      "outputs": [
        {
          "output_type": "execute_result",
          "data": {
            "text/plain": [
              "'7061726881'"
            ],
            "application/vnd.google.colaboratory.intrinsic+json": {
              "type": "string"
            }
          },
          "metadata": {},
          "execution_count": 2
        }
      ]
    },
    {
      "cell_type": "code",
      "source": [
        "# Add a new value\n",
        "phone_numbers['Rohan']='7084847895'\n",
        "# Update existing value\n",
        "phone_numbers['Shivam']='8804749141'\n",
        "# view the updated dictionary\n",
        "phone_numbers"
      ],
      "metadata": {
        "colab": {
          "base_uri": "https://localhost:8080/"
        },
        "id": "Z8jNf33eLxI2",
        "outputId": "8463e78f-9ebc-464a-d218-fc736b5e87b1"
      },
      "execution_count": 3,
      "outputs": [
        {
          "output_type": "execute_result",
          "data": {
            "text/plain": [
              "{'Mummy': '7992460934',\n",
              " 'Papa': '9308542390',\n",
              " 'Rohan': '7084847895',\n",
              " 'Shivam': '8804749141'}"
            ]
          },
          "metadata": {},
          "execution_count": 3
        }
      ]
    },
    {
      "cell_type": "code",
      "source": [
        "for name in phone_numbers:\n",
        "    print('Name:',name,'\\nNumber:',phone_numbers[name])"
      ],
      "metadata": {
        "colab": {
          "base_uri": "https://localhost:8080/"
        },
        "id": "gN7mwdxsL8bu",
        "outputId": "060a5fdb-6290-4c89-f469-49dde325e4dd"
      },
      "execution_count": 4,
      "outputs": [
        {
          "output_type": "stream",
          "name": "stdout",
          "text": [
            "Name: Mummy \n",
            "Number: 7992460934\n",
            "Name: Papa \n",
            "Number: 9308542390\n",
            "Name: Shivam \n",
            "Number: 8804749141\n",
            "Name: Rohan \n",
            "Number: 7084847895\n"
          ]
        }
      ]
    },
    {
      "cell_type": "code",
      "source": [
        "class HashTable:\n",
        "    def insert(self,key,value):\n",
        "        phone_numbers[key]=value\n",
        "        return phone_numbers\n",
        "    def find(self,key):\n",
        "        return key, phone_numbers[key]\n",
        "    def update(self,key,value):\n",
        "        if key in phone_numbers:\n",
        "            print('Record already exist')\n",
        "        else:\n",
        "            phone_numbers[key]=value\n",
        "            return phone_numbers\n",
        "    def list_all(self):\n",
        "        return phone_numbers"
      ],
      "metadata": {
        "id": "l9zPkXCwMxq4"
      },
      "execution_count": 5,
      "outputs": []
    },
    {
      "cell_type": "code",
      "source": [
        "HashTable().insert('Ritika',7079234071)"
      ],
      "metadata": {
        "colab": {
          "base_uri": "https://localhost:8080/"
        },
        "id": "LbGfWmW_N8Fv",
        "outputId": "1bb7a56d-87d8-43fa-eb3c-c375f5bf93d3"
      },
      "execution_count": 6,
      "outputs": [
        {
          "output_type": "execute_result",
          "data": {
            "text/plain": [
              "{'Mummy': '7992460934',\n",
              " 'Papa': '9308542390',\n",
              " 'Ritika': 7079234071,\n",
              " 'Rohan': '7084847895',\n",
              " 'Shivam': '8804749141'}"
            ]
          },
          "metadata": {},
          "execution_count": 6
        }
      ]
    },
    {
      "cell_type": "code",
      "source": [
        "phone_numbers"
      ],
      "metadata": {
        "colab": {
          "base_uri": "https://localhost:8080/"
        },
        "id": "V56ZlOcWOOYF",
        "outputId": "49879187-69e6-4f85-97d7-3226b77723b8"
      },
      "execution_count": 7,
      "outputs": [
        {
          "output_type": "execute_result",
          "data": {
            "text/plain": [
              "{'Mummy': '7992460934',\n",
              " 'Papa': '9308542390',\n",
              " 'Ritika': 7079234071,\n",
              " 'Rohan': '7084847895',\n",
              " 'Shivam': '8804749141'}"
            ]
          },
          "metadata": {},
          "execution_count": 7
        }
      ]
    },
    {
      "cell_type": "code",
      "source": [
        "HashTable().find('Ritika')"
      ],
      "metadata": {
        "colab": {
          "base_uri": "https://localhost:8080/"
        },
        "id": "O21tpvffOQ1F",
        "outputId": "4162b7df-9561-4f63-bd25-1020253a6dad"
      },
      "execution_count": 8,
      "outputs": [
        {
          "output_type": "execute_result",
          "data": {
            "text/plain": [
              "('Ritika', 7079234071)"
            ]
          },
          "metadata": {},
          "execution_count": 8
        }
      ]
    },
    {
      "cell_type": "code",
      "source": [
        "HashTable().update('Ritika',7079234071)"
      ],
      "metadata": {
        "colab": {
          "base_uri": "https://localhost:8080/"
        },
        "id": "oiaIxBpsO7u3",
        "outputId": "7c9a713c-01e5-412f-ba69-d607b837846c"
      },
      "execution_count": 9,
      "outputs": [
        {
          "output_type": "stream",
          "name": "stdout",
          "text": [
            "Record already exist\n"
          ]
        }
      ]
    },
    {
      "cell_type": "code",
      "source": [
        "HashTable().update('Sanket',8755624988)"
      ],
      "metadata": {
        "colab": {
          "base_uri": "https://localhost:8080/"
        },
        "id": "Nhpc23QgPYSL",
        "outputId": "7d3dc68b-6a65-4656-c4c0-2f2d1638caaf"
      },
      "execution_count": 10,
      "outputs": [
        {
          "output_type": "execute_result",
          "data": {
            "text/plain": [
              "{'Mummy': '7992460934',\n",
              " 'Papa': '9308542390',\n",
              " 'Ritika': 7079234071,\n",
              " 'Rohan': '7084847895',\n",
              " 'Sanket': 8755624988,\n",
              " 'Shivam': '8804749141'}"
            ]
          },
          "metadata": {},
          "execution_count": 10
        }
      ]
    },
    {
      "cell_type": "code",
      "source": [
        "HashTable().list_all()"
      ],
      "metadata": {
        "colab": {
          "base_uri": "https://localhost:8080/"
        },
        "id": "jYfpF9g2PjND",
        "outputId": "76dd5f43-f6f1-4903-ed89-89c6d4a8395c"
      },
      "execution_count": 11,
      "outputs": [
        {
          "output_type": "execute_result",
          "data": {
            "text/plain": [
              "{'Mummy': '7992460934',\n",
              " 'Papa': '9308542390',\n",
              " 'Ritika': 7079234071,\n",
              " 'Rohan': '7084847895',\n",
              " 'Sanket': 8755624988,\n",
              " 'Shivam': '8804749141'}"
            ]
          },
          "metadata": {},
          "execution_count": 11
        }
      ]
    },
    {
      "cell_type": "markdown",
      "source": [
        "# **Hash Table**"
      ],
      "metadata": {
        "id": "t4HJOlL1QLKt"
      }
    },
    {
      "cell_type": "markdown",
      "source": [
        "**Q1. Create a python list of size MAX_HASH_TABLE_SIZE, with all the values set to None.**\n",
        "*Hint*: Use * operator"
      ],
      "metadata": {
        "id": "5A78YzOiQe_X"
      }
    },
    {
      "cell_type": "code",
      "source": [
        "MAX_HASH_TABLE_SIZE=4096"
      ],
      "metadata": {
        "id": "EQOGYbClP_Hx"
      },
      "execution_count": 12,
      "outputs": []
    },
    {
      "cell_type": "code",
      "source": [
        "# List size of MAX_HASH_TABLE_SIZE with all values None\n",
        "data_list=[None]*4096"
      ],
      "metadata": {
        "id": "XhK3RdKsRIBC"
      },
      "execution_count": 13,
      "outputs": []
    },
    {
      "cell_type": "code",
      "source": [
        "len(data_list)"
      ],
      "metadata": {
        "colab": {
          "base_uri": "https://localhost:8080/"
        },
        "id": "R3AkrwXVRUap",
        "outputId": "212c54f8-ff91-4e1b-8585-ac147ddbd8a7"
      },
      "execution_count": 14,
      "outputs": [
        {
          "output_type": "execute_result",
          "data": {
            "text/plain": [
              "4096"
            ]
          },
          "metadata": {},
          "execution_count": 14
        }
      ]
    },
    {
      "cell_type": "code",
      "source": [
        "print(data_list[99])"
      ],
      "metadata": {
        "colab": {
          "base_uri": "https://localhost:8080/"
        },
        "id": "DcR6zS0bRWcq",
        "outputId": "ba9151b3-9339-4340-98a6-15359da2f8df"
      },
      "execution_count": 15,
      "outputs": [
        {
          "output_type": "stream",
          "name": "stdout",
          "text": [
            "None\n"
          ]
        }
      ]
    },
    {
      "cell_type": "code",
      "source": [
        "# assert throws error when the statment is false\n",
        "for item in data_list:\n",
        "    assert item==None"
      ],
      "metadata": {
        "id": "FPPUjburRYcu"
      },
      "execution_count": 16,
      "outputs": []
    },
    {
      "cell_type": "markdown",
      "source": [
        "**Q2. Complete the get_index function below which implements the hashing algorithm described above.**"
      ],
      "metadata": {
        "id": "rp1wVSgQSKDA"
      }
    },
    {
      "cell_type": "code",
      "source": [
        "def get_index(data_list,a_string):\n",
        "    # Variable to store the result (updated after each iteration)\n",
        "    result=0\n",
        "    for a_character in a_string:\n",
        "        # Convert character into a number (using ord)\n",
        "        a_number=ord(a_character)\n",
        "        # Update the result by adding the number\n",
        "        result+=a_number\n",
        "    # Take the remainder of the result with the size of the data list\n",
        "    list_index=result%len(data_list)\n",
        "    return list_index"
      ],
      "metadata": {
        "id": "vdDKH0HvR2Zq"
      },
      "execution_count": 17,
      "outputs": []
    },
    {
      "cell_type": "code",
      "source": [
        "get_index(data_list,'')==0"
      ],
      "metadata": {
        "colab": {
          "base_uri": "https://localhost:8080/"
        },
        "id": "w-Gb9q-ZUbY1",
        "outputId": "ab029650-410b-46f0-8edf-3b27911c5b4f"
      },
      "execution_count": 18,
      "outputs": [
        {
          "output_type": "execute_result",
          "data": {
            "text/plain": [
              "True"
            ]
          },
          "metadata": {},
          "execution_count": 18
        }
      ]
    },
    {
      "cell_type": "code",
      "source": [
        "# 616 is obtained by the sum of each character obtained by ord function\n",
        "get_index(data_list,'Shivam')==616"
      ],
      "metadata": {
        "colab": {
          "base_uri": "https://localhost:8080/"
        },
        "id": "YLSTxFlwUuvz",
        "outputId": "fd69f997-614b-4ef8-e29e-be8a9dff0b3c"
      },
      "execution_count": 19,
      "outputs": [
        {
          "output_type": "execute_result",
          "data": {
            "text/plain": [
              "True"
            ]
          },
          "metadata": {},
          "execution_count": 19
        }
      ]
    },
    {
      "cell_type": "code",
      "source": [
        "get_index(data_list,'Rohan')"
      ],
      "metadata": {
        "colab": {
          "base_uri": "https://localhost:8080/"
        },
        "id": "BXdSEr49V0cy",
        "outputId": "4194631b-72e7-4150-dadb-0bbec3209fa1"
      },
      "execution_count": 20,
      "outputs": [
        {
          "output_type": "execute_result",
          "data": {
            "text/plain": [
              "504"
            ]
          },
          "metadata": {},
          "execution_count": 20
        }
      ]
    },
    {
      "cell_type": "code",
      "source": [
        "# testing with new data list\n",
        "data_list2=[None]*48"
      ],
      "metadata": {
        "id": "I_2zoyV8V92X"
      },
      "execution_count": 21,
      "outputs": []
    },
    {
      "cell_type": "code",
      "source": [
        "get_index(data_list2,'Shivam')==616"
      ],
      "metadata": {
        "colab": {
          "base_uri": "https://localhost:8080/"
        },
        "id": "r96K1lzZYBfM",
        "outputId": "8dec2ef3-f6cb-413c-ea44-385b5403e227"
      },
      "execution_count": 22,
      "outputs": [
        {
          "output_type": "execute_result",
          "data": {
            "text/plain": [
              "False"
            ]
          },
          "metadata": {},
          "execution_count": 22
        }
      ]
    },
    {
      "cell_type": "code",
      "source": [
        "get_index(data_list2,'Shivam')"
      ],
      "metadata": {
        "colab": {
          "base_uri": "https://localhost:8080/"
        },
        "id": "0STyWlOAYBwk",
        "outputId": "d9aa90c0-ab9f-4a24-f59c-6feca564aa00"
      },
      "execution_count": 23,
      "outputs": [
        {
          "output_type": "execute_result",
          "data": {
            "text/plain": [
              "40"
            ]
          },
          "metadata": {},
          "execution_count": 23
        }
      ]
    },
    {
      "cell_type": "code",
      "source": [
        "# In the above cell, output is 40 because its the sum of each character \n",
        "# obtained by ord function \n",
        "616%48"
      ],
      "metadata": {
        "colab": {
          "base_uri": "https://localhost:8080/"
        },
        "id": "qsOT0n83Yc4b",
        "outputId": "abb7aaaf-9612-43a0-a9e5-44383263cbb5"
      },
      "execution_count": 24,
      "outputs": [
        {
          "output_type": "execute_result",
          "data": {
            "text/plain": [
              "40"
            ]
          },
          "metadata": {},
          "execution_count": 24
        }
      ]
    },
    {
      "cell_type": "markdown",
      "source": [
        "**Inserting key, value pair into hash table**"
      ],
      "metadata": {
        "id": "-W3IEYUbZvI1"
      }
    },
    {
      "cell_type": "code",
      "source": [
        "key, value = 'Uchiha Madara',545445"
      ],
      "metadata": {
        "id": "0JQcQZ0SY0eU"
      },
      "execution_count": 25,
      "outputs": []
    },
    {
      "cell_type": "code",
      "source": [
        "idx=get_index(data_list,key)\n",
        "idx"
      ],
      "metadata": {
        "colab": {
          "base_uri": "https://localhost:8080/"
        },
        "id": "Os99G3GeaBRV",
        "outputId": "5214aecd-8c85-45cc-b747-e4e9efe5d0ab"
      },
      "execution_count": 26,
      "outputs": [
        {
          "output_type": "execute_result",
          "data": {
            "text/plain": [
              "1208"
            ]
          },
          "metadata": {},
          "execution_count": 26
        }
      ]
    },
    {
      "cell_type": "code",
      "source": [
        "data_list[idx]=(key,value)"
      ],
      "metadata": {
        "id": "pxwpvyGfaHv7"
      },
      "execution_count": 27,
      "outputs": []
    },
    {
      "cell_type": "code",
      "source": [
        "data_list[1208]"
      ],
      "metadata": {
        "colab": {
          "base_uri": "https://localhost:8080/"
        },
        "id": "2wyPDKCAaSif",
        "outputId": "9fe20fba-3452-4fad-c46e-91280ee6aec5"
      },
      "execution_count": 28,
      "outputs": [
        {
          "output_type": "execute_result",
          "data": {
            "text/plain": [
              "('Uchiha Madara', 545445)"
            ]
          },
          "metadata": {},
          "execution_count": 28
        }
      ]
    },
    {
      "cell_type": "code",
      "source": [
        "data_list[get_index(data_list,'Ritika')]=('Ritika',8178788)"
      ],
      "metadata": {
        "id": "unuBNZwhaZdS"
      },
      "execution_count": 29,
      "outputs": []
    },
    {
      "cell_type": "code",
      "source": [
        "data_list[612]"
      ],
      "metadata": {
        "colab": {
          "base_uri": "https://localhost:8080/"
        },
        "id": "FxduLhjYa5Kb",
        "outputId": "01550ddf-6d75-4dc1-e680-e0cfaffdad24"
      },
      "execution_count": 30,
      "outputs": [
        {
          "output_type": "execute_result",
          "data": {
            "text/plain": [
              "('Ritika', 8178788)"
            ]
          },
          "metadata": {},
          "execution_count": 30
        }
      ]
    },
    {
      "cell_type": "markdown",
      "source": [
        "**Find or retrieve value from hash table**"
      ],
      "metadata": {
        "id": "EuVQzTwIbJOu"
      }
    },
    {
      "cell_type": "code",
      "source": [
        "idx=get_index(data_list,'Uchiha Madara')\n",
        "idx"
      ],
      "metadata": {
        "colab": {
          "base_uri": "https://localhost:8080/"
        },
        "id": "swDs4yzka-qa",
        "outputId": "d17563f7-8b45-4c4c-f34d-50995d3ebe0a"
      },
      "execution_count": 31,
      "outputs": [
        {
          "output_type": "execute_result",
          "data": {
            "text/plain": [
              "1208"
            ]
          },
          "metadata": {},
          "execution_count": 31
        }
      ]
    },
    {
      "cell_type": "code",
      "source": [
        "key,value=data_list[1208]\n",
        "value"
      ],
      "metadata": {
        "colab": {
          "base_uri": "https://localhost:8080/"
        },
        "id": "EJheAjPSbX_T",
        "outputId": "31e55b78-05df-4423-a51b-2f8f4a12e32f"
      },
      "execution_count": 32,
      "outputs": [
        {
          "output_type": "execute_result",
          "data": {
            "text/plain": [
              "545445"
            ]
          },
          "metadata": {},
          "execution_count": 32
        }
      ]
    },
    {
      "cell_type": "markdown",
      "source": [
        "**Getting list of keys**"
      ],
      "metadata": {
        "id": "HuV-Zb_zbzNa"
      }
    },
    {
      "cell_type": "code",
      "source": [
        "pairs=[i for i in data_list if i is not None]\n",
        "pairs"
      ],
      "metadata": {
        "colab": {
          "base_uri": "https://localhost:8080/"
        },
        "id": "EAiUxSk2bei9",
        "outputId": "c9d8c677-3021-4b6e-d35a-73959bf41623"
      },
      "execution_count": 33,
      "outputs": [
        {
          "output_type": "execute_result",
          "data": {
            "text/plain": [
              "[('Ritika', 8178788), ('Uchiha Madara', 545445)]"
            ]
          },
          "metadata": {},
          "execution_count": 33
        }
      ]
    },
    {
      "cell_type": "code",
      "source": [
        "keys=[i[0] for i in data_list if i is not None]\n",
        "keys"
      ],
      "metadata": {
        "colab": {
          "base_uri": "https://localhost:8080/"
        },
        "id": "9zSQZmnOcDCq",
        "outputId": "80d366e4-545f-480f-8c48-5d28b1418b0d"
      },
      "execution_count": 34,
      "outputs": [
        {
          "output_type": "execute_result",
          "data": {
            "text/plain": [
              "['Ritika', 'Uchiha Madara']"
            ]
          },
          "metadata": {},
          "execution_count": 34
        }
      ]
    },
    {
      "cell_type": "markdown",
      "source": [
        "# **Basic Hash Table Implementation**"
      ],
      "metadata": {
        "id": "TQ4L4MyCdOEm"
      }
    },
    {
      "cell_type": "markdown",
      "source": [
        "**Q3. Complete the hash table implementaion below by the following the instructions given**\n",
        "Hint: Insert and update can have identical implementaions."
      ],
      "metadata": {
        "id": "CZOwv4ULdZ0j"
      }
    },
    {
      "cell_type": "code",
      "source": [
        "# Helper function\n",
        "def get_index(data_list,key):\n",
        "    result=0\n",
        "    for i in key:\n",
        "        result+=ord(i)\n",
        "    return result%len(data_list)\n",
        "\n",
        "class BasicHashTable:\n",
        "    # It will take default MAX_HASH_TABLE_SIZE if the calue is not provided\n",
        "    def __init__(self,max_size=MAX_HASH_TABLE_SIZE):\n",
        "        # Create a list of size \"max_size\" with all values None\n",
        "        self.data_list=[None]*max_size\n",
        "    def insert(self,key,value):\n",
        "        # Find index for the key using get_index\n",
        "        idx=get_index(self.data_list,key)\n",
        "        # Store the key value pair at the right index\n",
        "        self.data_list[idx]=key,value\n",
        "    def find(self,key):\n",
        "        # Find the index for the key using get_index\n",
        "        idx=get_index(self.data_list,key)\n",
        "        # Retrieve the data stored at the index\n",
        "        kv=self.data_list[idx]\n",
        "        # Return the value if kv is found else return None\n",
        "        if kv is None:\n",
        "            raise IndexError('key not found')\n",
        "        else:\n",
        "            key,value=kv\n",
        "            return value\n",
        "    def update(self,key,value):\n",
        "        # find the index for the key using get_index\n",
        "        idx=get_index(self.data_list,key)\n",
        "        # store the new key value pair at the right index\n",
        "        self.data_list[idx]=key,value\n",
        "    def list_all(self):\n",
        "        # Extract the key from each key value pair\n",
        "        return [kv[0] for kv in self.data_list if kv is not None]"
      ],
      "metadata": {
        "id": "DycMlVntcKLR"
      },
      "execution_count": 35,
      "outputs": []
    },
    {
      "cell_type": "code",
      "source": [
        "basic_table=BasicHashTable(max_size=1024)\n",
        "# check if the provided size is true or not\n",
        "len(basic_table.data_list)==1024"
      ],
      "metadata": {
        "colab": {
          "base_uri": "https://localhost:8080/"
        },
        "id": "jgIs85GgtE2F",
        "outputId": "4af4e16b-850b-43f4-899b-3bf0830c88b5"
      },
      "execution_count": 36,
      "outputs": [
        {
          "output_type": "execute_result",
          "data": {
            "text/plain": [
              "True"
            ]
          },
          "metadata": {},
          "execution_count": 36
        }
      ]
    },
    {
      "cell_type": "code",
      "source": [
        "# listing all keys\n",
        "basic_table.list_all()"
      ],
      "metadata": {
        "colab": {
          "base_uri": "https://localhost:8080/"
        },
        "id": "MEjm_foxxXc6",
        "outputId": "5e53d205-8c07-4e7c-a7d5-8a6f90a75337"
      },
      "execution_count": 37,
      "outputs": [
        {
          "output_type": "execute_result",
          "data": {
            "text/plain": [
              "[]"
            ]
          },
          "metadata": {},
          "execution_count": 37
        }
      ]
    },
    {
      "cell_type": "code",
      "source": [
        "# Insert some values\n",
        "basic_table.insert('Rahul',745)\n",
        "basic_table.insert('Shivam',799)\n",
        "basic_table.insert('Rohan',454)\n",
        "basic_table.insert('Ayush',545)\n",
        "basic_table.insert('Anshu',787)\n",
        "basic_table.insert('Bittu',989)"
      ],
      "metadata": {
        "id": "bDKnfcVGw65r"
      },
      "execution_count": 38,
      "outputs": []
    },
    {
      "cell_type": "code",
      "source": [
        "# listing all keys\n",
        "basic_table.list_all()"
      ],
      "metadata": {
        "colab": {
          "base_uri": "https://localhost:8080/"
        },
        "id": "W849oAekx355",
        "outputId": "f88e4f0d-0411-495c-d6f8-4c387850a00a"
      },
      "execution_count": 39,
      "outputs": [
        {
          "output_type": "execute_result",
          "data": {
            "text/plain": [
              "['Rohan', 'Rahul', 'Anshu', 'Bittu', 'Ayush', 'Shivam']"
            ]
          },
          "metadata": {},
          "execution_count": 39
        }
      ]
    },
    {
      "cell_type": "code",
      "source": [
        "# Finding a value\n",
        "basic_table.find('Anshu')"
      ],
      "metadata": {
        "colab": {
          "base_uri": "https://localhost:8080/"
        },
        "id": "3x0mAsinx5ii",
        "outputId": "a7a83bd6-e00f-4bcf-bcf0-8c8f5fbc71ea"
      },
      "execution_count": 40,
      "outputs": [
        {
          "output_type": "execute_result",
          "data": {
            "text/plain": [
              "787"
            ]
          },
          "metadata": {},
          "execution_count": 40
        }
      ]
    },
    {
      "cell_type": "code",
      "source": [
        "# Updating a value\n",
        "basic_table.update('Bittu','077')"
      ],
      "metadata": {
        "id": "BZkWDjJOyJj6"
      },
      "execution_count": 41,
      "outputs": []
    },
    {
      "cell_type": "code",
      "source": [
        "# listing all keys\n",
        "basic_table.list_all()"
      ],
      "metadata": {
        "colab": {
          "base_uri": "https://localhost:8080/"
        },
        "id": "JHwrjMIoyXag",
        "outputId": "14594da9-2263-43e2-b149-bfee8266f340"
      },
      "execution_count": 42,
      "outputs": [
        {
          "output_type": "execute_result",
          "data": {
            "text/plain": [
              "['Rohan', 'Rahul', 'Anshu', 'Bittu', 'Ayush', 'Shivam']"
            ]
          },
          "metadata": {},
          "execution_count": 42
        }
      ]
    },
    {
      "cell_type": "markdown",
      "source": [
        "# **Handling collisions with linear probing**"
      ],
      "metadata": {
        "id": "5ID0KxmV0LrM"
      }
    },
    {
      "cell_type": "code",
      "source": [
        "get_index(data_list,'listen'),get_index(data_list,'silent')"
      ],
      "metadata": {
        "colab": {
          "base_uri": "https://localhost:8080/"
        },
        "id": "-C-_5cXxydFn",
        "outputId": "5e833690-be33-4069-c510-ce8b5552f1d6"
      },
      "execution_count": 43,
      "outputs": [
        {
          "output_type": "execute_result",
          "data": {
            "text/plain": [
              "(655, 655)"
            ]
          },
          "metadata": {},
          "execution_count": 43
        }
      ]
    },
    {
      "cell_type": "code",
      "source": [
        "basic_table.insert('listen',99)"
      ],
      "metadata": {
        "id": "UUtRH88A1K8R"
      },
      "execution_count": 44,
      "outputs": []
    },
    {
      "cell_type": "code",
      "source": [
        "basic_table.insert('silent',200)"
      ],
      "metadata": {
        "id": "9IB3VCFg1Vdn"
      },
      "execution_count": 45,
      "outputs": []
    },
    {
      "cell_type": "code",
      "source": [
        "basic_table.find('listen')"
      ],
      "metadata": {
        "colab": {
          "base_uri": "https://localhost:8080/"
        },
        "id": "bvkaJwlg1YjV",
        "outputId": "c04f485c-f47c-4811-d797-199b98546964"
      },
      "execution_count": 46,
      "outputs": [
        {
          "output_type": "execute_result",
          "data": {
            "text/plain": [
              "200"
            ]
          },
          "metadata": {},
          "execution_count": 46
        }
      ]
    },
    {
      "cell_type": "markdown",
      "source": [
        "Q4. Complete the function get_valid_index below by following the instructions in the comments "
      ],
      "metadata": {
        "id": "Vptce2Fv15fd"
      }
    },
    {
      "cell_type": "code",
      "source": [
        "# Helper function\n",
        "def get_index(data_list,key):\n",
        "    result=0\n",
        "    for i in key:\n",
        "        result+=ord(i)\n",
        "    return result%len(data_list)\n",
        "\n",
        "def get_valid_index(data_list,key):\n",
        "    # Start with the index returned by get_index\n",
        "    idx=get_index(data_list,key)\n",
        "    while True:\n",
        "        # Get the key-value pair stored at idx\n",
        "        kv=data_list[idx]\n",
        "        # If it is None return the index\n",
        "        if kv is None:\n",
        "            return idx\n",
        "        # If the stored key matches the given key, return the index\n",
        "        k,v=kv\n",
        "        if k==key:\n",
        "            return idx\n",
        "        # Move to the next index\n",
        "        idx+=1\n",
        "        # Go back to the start if you have reached the end of the array\n",
        "        if idx==len(data_list):\n",
        "            idx=0 \n",
        "\n",
        "class ProbingHashTable:\n",
        "    # It will take default MAX_HASH_TABLE_SIZE if the calue is not provided\n",
        "    def __init__(self,max_size=MAX_HASH_TABLE_SIZE):\n",
        "        # Create a list of size \"max_size\" with all values None\n",
        "        self.data_list=[None]*max_size\n",
        "    def insert(self,key,value):\n",
        "        # Find index for the key using get_index\n",
        "        idx=get_valid_index(self.data_list,key)\n",
        "        # Store the key value pair at the right index\n",
        "        self.data_list[idx]=key,value\n",
        "    def find(self,key):\n",
        "        # Find the index for the key using get_index\n",
        "        idx=get_valid_index(self.data_list,key)\n",
        "        # Retrieve the data stored at the index\n",
        "        kv=self.data_list[idx]\n",
        "        # Return the value if kv is found else return None\n",
        "        if kv is None:\n",
        "            raise IndexError('key not found')\n",
        "        else:\n",
        "            key,value=kv\n",
        "            return value\n",
        "    def update(self,key,value):\n",
        "        # find the index for the key using get_index\n",
        "        idx=get_valid_index(self.data_list,key)\n",
        "        # store the new key value pair at the right index\n",
        "        self.data_list[idx]=key,value\n",
        "    def list_all(self):\n",
        "        # Extract the key from each key value pair\n",
        "        return [kv[0] for kv in self.data_list if kv is not None]"
      ],
      "metadata": {
        "id": "VU6FbV1y1c3S"
      },
      "execution_count": 47,
      "outputs": []
    },
    {
      "cell_type": "code",
      "source": [
        "basic_table2=ProbingHashTable(max_size=1024)\n",
        "# check if the provided size is true or not\n",
        "len(basic_table.data_list)==1024"
      ],
      "metadata": {
        "colab": {
          "base_uri": "https://localhost:8080/"
        },
        "id": "LB7EHHe64l6x",
        "outputId": "7a3c8007-4295-4e2d-e6a8-fde7412d234b"
      },
      "execution_count": 48,
      "outputs": [
        {
          "output_type": "execute_result",
          "data": {
            "text/plain": [
              "True"
            ]
          },
          "metadata": {},
          "execution_count": 48
        }
      ]
    },
    {
      "cell_type": "code",
      "source": [
        "basic_table2.insert('listen',99)"
      ],
      "metadata": {
        "id": "-XVLkTLv4af-"
      },
      "execution_count": 49,
      "outputs": []
    },
    {
      "cell_type": "code",
      "source": [
        "basic_table2.insert('silent',200)"
      ],
      "metadata": {
        "id": "22u2FeNH4dyx"
      },
      "execution_count": 50,
      "outputs": []
    },
    {
      "cell_type": "code",
      "source": [
        "basic_table2.find('listen')"
      ],
      "metadata": {
        "colab": {
          "base_uri": "https://localhost:8080/"
        },
        "id": "A9DYIHMr4fvN",
        "outputId": "87a61c54-18b6-4d04-f8d4-ed7a1b18cb74"
      },
      "execution_count": 51,
      "outputs": [
        {
          "output_type": "execute_result",
          "data": {
            "text/plain": [
              "99"
            ]
          },
          "metadata": {},
          "execution_count": 51
        }
      ]
    },
    {
      "cell_type": "code",
      "source": [
        "basic_table2.find('silent')"
      ],
      "metadata": {
        "colab": {
          "base_uri": "https://localhost:8080/"
        },
        "id": "boenQg0V4iYd",
        "outputId": "8e17ad22-89a5-4343-b1ba-8fcb5efd3adf"
      },
      "execution_count": 52,
      "outputs": [
        {
          "output_type": "execute_result",
          "data": {
            "text/plain": [
              "200"
            ]
          },
          "metadata": {},
          "execution_count": 52
        }
      ]
    }
  ]
}