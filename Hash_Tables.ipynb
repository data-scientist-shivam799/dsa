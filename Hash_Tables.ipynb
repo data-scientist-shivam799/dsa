{
  "nbformat": 4,
  "nbformat_minor": 0,
  "metadata": {
    "colab": {
      "name": "Hash_Tables.ipynb",
      "provenance": [],
      "collapsed_sections": []
    },
    "kernelspec": {
      "name": "python3",
      "display_name": "Python 3"
    },
    "language_info": {
      "name": "python"
    }
  },
  "cells": [
    {
      "cell_type": "code",
      "execution_count": 1,
      "metadata": {
        "id": "MchmD4S4Lo2E"
      },
      "outputs": [],
      "source": [
        "phone_numbers={\n",
        "    'Mummy':'12457683591',\n",
        "    'Papa':'45165461237',\n",
        "    'Shivam':'12345678251'\n",
        "}"
      ]
    },
    {
      "cell_type": "code",
      "source": [
        "phone_numbers['Shivam']"
      ],
      "metadata": {
        "colab": {
          "base_uri": "https://localhost:8080/",
          "height": 36
        },
        "id": "9K99oE94LuXs",
        "outputId": "bbc109b2-c207-4881-9cf6-93806f4c984f"
      },
      "execution_count": 2,
      "outputs": [
        {
          "output_type": "execute_result",
          "data": {
            "text/plain": [
              "'12345678251'"
            ],
            "application/vnd.google.colaboratory.intrinsic+json": {
              "type": "string"
            }
          },
          "metadata": {},
          "execution_count": 2
        }
      ]
    },
    {
      "cell_type": "code",
      "source": [
        "# Add a new value\n",
        "phone_numbers['Rohan']='7084847895'\n",
        "# Update existing value\n",
        "phone_numbers['Shivam']='1546728365'\n",
        "# view the updated dictionary\n",
        "phone_numbers"
      ],
      "metadata": {
        "colab": {
          "base_uri": "https://localhost:8080/"
        },
        "id": "Z8jNf33eLxI2",
        "outputId": "8efd00ed-606b-48c6-dc96-487d97ec8c47"
      },
      "execution_count": 3,
      "outputs": [
        {
          "output_type": "execute_result",
          "data": {
            "text/plain": [
              "{'Mummy': '12457683591',\n",
              " 'Papa': '45165461237',\n",
              " 'Rohan': '7084847895',\n",
              " 'Shivam': '1546728365'}"
            ]
          },
          "metadata": {},
          "execution_count": 3
        }
      ]
    },
    {
      "cell_type": "code",
      "source": [
        "for name in phone_numbers:\n",
        "    print('Name:',name,'\\nNumber:',phone_numbers[name])"
      ],
      "metadata": {
        "colab": {
          "base_uri": "https://localhost:8080/"
        },
        "id": "gN7mwdxsL8bu",
        "outputId": "c290a7e1-cb02-41be-b74e-6ae739716032"
      },
      "execution_count": 4,
      "outputs": [
        {
          "output_type": "stream",
          "name": "stdout",
          "text": [
            "Name: Mummy \n",
            "Number: 12457683591\n",
            "Name: Papa \n",
            "Number: 45165461237\n",
            "Name: Shivam \n",
            "Number: 1546728365\n",
            "Name: Rohan \n",
            "Number: 7084847895\n"
          ]
        }
      ]
    },
    {
      "cell_type": "code",
      "source": [
        "class HashTable:\n",
        "    def insert(self,key,value):\n",
        "        phone_numbers[key]=value\n",
        "        return phone_numbers\n",
        "    def find(self,key):\n",
        "        return key, phone_numbers[key]\n",
        "    def update(self,key,value):\n",
        "        if key in phone_numbers:\n",
        "            print('Record already exist')\n",
        "        else:\n",
        "            phone_numbers[key]=value\n",
        "            return phone_numbers\n",
        "    def list_all(self):\n",
        "        return phone_numbers"
      ],
      "metadata": {
        "id": "l9zPkXCwMxq4"
      },
      "execution_count": 5,
      "outputs": []
    },
    {
      "cell_type": "code",
      "source": [
        "HashTable().insert('Ritika',4576154256)"
      ],
      "metadata": {
        "colab": {
          "base_uri": "https://localhost:8080/"
        },
        "id": "LbGfWmW_N8Fv",
        "outputId": "0b45186e-0686-4759-fb8d-63a135764cbc"
      },
      "execution_count": 6,
      "outputs": [
        {
          "output_type": "execute_result",
          "data": {
            "text/plain": [
              "{'Mummy': '12457683591',\n",
              " 'Papa': '45165461237',\n",
              " 'Ritika': 4576154256,\n",
              " 'Rohan': '7084847895',\n",
              " 'Shivam': '1546728365'}"
            ]
          },
          "metadata": {},
          "execution_count": 6
        }
      ]
    },
    {
      "cell_type": "code",
      "source": [
        "phone_numbers"
      ],
      "metadata": {
        "colab": {
          "base_uri": "https://localhost:8080/"
        },
        "id": "V56ZlOcWOOYF",
        "outputId": "34837f9c-7e2d-4335-f81f-2c38ef87be9a"
      },
      "execution_count": 7,
      "outputs": [
        {
          "output_type": "execute_result",
          "data": {
            "text/plain": [
              "{'Mummy': '12457683591',\n",
              " 'Papa': '45165461237',\n",
              " 'Ritika': 4576154256,\n",
              " 'Rohan': '7084847895',\n",
              " 'Shivam': '1546728365'}"
            ]
          },
          "metadata": {},
          "execution_count": 7
        }
      ]
    },
    {
      "cell_type": "code",
      "source": [
        "HashTable().find('Ritika')"
      ],
      "metadata": {
        "colab": {
          "base_uri": "https://localhost:8080/"
        },
        "id": "O21tpvffOQ1F",
        "outputId": "d948b1eb-ee89-4f2e-8526-47f62b5fbb6a"
      },
      "execution_count": 8,
      "outputs": [
        {
          "output_type": "execute_result",
          "data": {
            "text/plain": [
              "('Ritika', 4576154256)"
            ]
          },
          "metadata": {},
          "execution_count": 8
        }
      ]
    },
    {
      "cell_type": "code",
      "source": [
        "HashTable().update('Ritika',4562155156)"
      ],
      "metadata": {
        "colab": {
          "base_uri": "https://localhost:8080/"
        },
        "id": "oiaIxBpsO7u3",
        "outputId": "10499fec-5bdc-47d4-9dec-cf29d0b7410f"
      },
      "execution_count": 9,
      "outputs": [
        {
          "output_type": "stream",
          "name": "stdout",
          "text": [
            "Record already exist\n"
          ]
        }
      ]
    },
    {
      "cell_type": "code",
      "source": [
        "HashTable().update('Sanket',8755624988)"
      ],
      "metadata": {
        "colab": {
          "base_uri": "https://localhost:8080/"
        },
        "id": "Nhpc23QgPYSL",
        "outputId": "afb5bb04-0b1d-4bc8-de08-629b62c9b689"
      },
      "execution_count": 10,
      "outputs": [
        {
          "output_type": "execute_result",
          "data": {
            "text/plain": [
              "{'Mummy': '12457683591',\n",
              " 'Papa': '45165461237',\n",
              " 'Ritika': 4576154256,\n",
              " 'Rohan': '7084847895',\n",
              " 'Sanket': 8755624988,\n",
              " 'Shivam': '1546728365'}"
            ]
          },
          "metadata": {},
          "execution_count": 10
        }
      ]
    },
    {
      "cell_type": "code",
      "source": [
        "HashTable().list_all()"
      ],
      "metadata": {
        "colab": {
          "base_uri": "https://localhost:8080/"
        },
        "id": "jYfpF9g2PjND",
        "outputId": "4a73079f-ee84-4ecc-bb18-31790ee666cb"
      },
      "execution_count": 11,
      "outputs": [
        {
          "output_type": "execute_result",
          "data": {
            "text/plain": [
              "{'Mummy': '12457683591',\n",
              " 'Papa': '45165461237',\n",
              " 'Ritika': 4576154256,\n",
              " 'Rohan': '7084847895',\n",
              " 'Sanket': 8755624988,\n",
              " 'Shivam': '1546728365'}"
            ]
          },
          "metadata": {},
          "execution_count": 11
        }
      ]
    },
    {
      "cell_type": "markdown",
      "source": [
        "# **Hash Table**"
      ],
      "metadata": {
        "id": "t4HJOlL1QLKt"
      }
    },
    {
      "cell_type": "markdown",
      "source": [
        "**Q1. Create a python list of size MAX_HASH_TABLE_SIZE, with all the values set to None.**\n",
        "*Hint*: Use * operator"
      ],
      "metadata": {
        "id": "5A78YzOiQe_X"
      }
    },
    {
      "cell_type": "code",
      "source": [
        "MAX_HASH_TABLE_SIZE=4096"
      ],
      "metadata": {
        "id": "EQOGYbClP_Hx"
      },
      "execution_count": 12,
      "outputs": []
    },
    {
      "cell_type": "code",
      "source": [
        "# List size of MAX_HASH_TABLE_SIZE with all values None\n",
        "data_list=[None]*4096"
      ],
      "metadata": {
        "id": "XhK3RdKsRIBC"
      },
      "execution_count": 13,
      "outputs": []
    },
    {
      "cell_type": "code",
      "source": [
        "len(data_list)"
      ],
      "metadata": {
        "colab": {
          "base_uri": "https://localhost:8080/"
        },
        "id": "R3AkrwXVRUap",
        "outputId": "88f19dc4-eddd-4d89-b2ab-bb3fa7602c0c"
      },
      "execution_count": 14,
      "outputs": [
        {
          "output_type": "execute_result",
          "data": {
            "text/plain": [
              "4096"
            ]
          },
          "metadata": {},
          "execution_count": 14
        }
      ]
    },
    {
      "cell_type": "code",
      "source": [
        "print(data_list[99])"
      ],
      "metadata": {
        "colab": {
          "base_uri": "https://localhost:8080/"
        },
        "id": "DcR6zS0bRWcq",
        "outputId": "98a4361a-457b-4b73-c881-6dd3a61c7d40"
      },
      "execution_count": 15,
      "outputs": [
        {
          "output_type": "stream",
          "name": "stdout",
          "text": [
            "None\n"
          ]
        }
      ]
    },
    {
      "cell_type": "code",
      "source": [
        "# assert throws error when the statment is false\n",
        "for item in data_list:\n",
        "    assert item==None"
      ],
      "metadata": {
        "id": "FPPUjburRYcu"
      },
      "execution_count": 16,
      "outputs": []
    },
    {
      "cell_type": "markdown",
      "source": [
        "**Q2. Complete the get_index function below which implements the hashing algorithm described above.**"
      ],
      "metadata": {
        "id": "rp1wVSgQSKDA"
      }
    },
    {
      "cell_type": "code",
      "source": [
        "def get_index(data_list,a_string):\n",
        "    # Variable to store the result (updated after each iteration)\n",
        "    result=0\n",
        "    for a_character in a_string:\n",
        "        # Convert character into a number (using ord)\n",
        "        a_number=ord(a_character)\n",
        "        # Update the result by adding the number\n",
        "        result+=a_number\n",
        "    # Take the remainder of the result with the size of the data list\n",
        "    list_index=result%len(data_list)\n",
        "    return list_index"
      ],
      "metadata": {
        "id": "vdDKH0HvR2Zq"
      },
      "execution_count": 17,
      "outputs": []
    },
    {
      "cell_type": "code",
      "source": [
        "get_index(data_list,'')==0"
      ],
      "metadata": {
        "colab": {
          "base_uri": "https://localhost:8080/"
        },
        "id": "w-Gb9q-ZUbY1",
        "outputId": "85ee54a8-83c4-43d0-c8bb-82b228d41374"
      },
      "execution_count": 18,
      "outputs": [
        {
          "output_type": "execute_result",
          "data": {
            "text/plain": [
              "True"
            ]
          },
          "metadata": {},
          "execution_count": 18
        }
      ]
    },
    {
      "cell_type": "code",
      "source": [
        "# 616 is obtained by the sum of each character obtained by ord function\n",
        "get_index(data_list,'Shivam')==616"
      ],
      "metadata": {
        "colab": {
          "base_uri": "https://localhost:8080/"
        },
        "id": "YLSTxFlwUuvz",
        "outputId": "3d171418-93ab-4ce1-941f-a9a61ca60c78"
      },
      "execution_count": 19,
      "outputs": [
        {
          "output_type": "execute_result",
          "data": {
            "text/plain": [
              "True"
            ]
          },
          "metadata": {},
          "execution_count": 19
        }
      ]
    },
    {
      "cell_type": "code",
      "source": [
        "get_index(data_list,'Rohan')"
      ],
      "metadata": {
        "colab": {
          "base_uri": "https://localhost:8080/"
        },
        "id": "BXdSEr49V0cy",
        "outputId": "71981625-b91a-43ec-cf47-de6bde4338e9"
      },
      "execution_count": 20,
      "outputs": [
        {
          "output_type": "execute_result",
          "data": {
            "text/plain": [
              "504"
            ]
          },
          "metadata": {},
          "execution_count": 20
        }
      ]
    },
    {
      "cell_type": "code",
      "source": [
        "# testing with new data list\n",
        "data_list2=[None]*48"
      ],
      "metadata": {
        "id": "I_2zoyV8V92X"
      },
      "execution_count": 21,
      "outputs": []
    },
    {
      "cell_type": "code",
      "source": [
        "get_index(data_list2,'Shivam')==616"
      ],
      "metadata": {
        "colab": {
          "base_uri": "https://localhost:8080/"
        },
        "id": "r96K1lzZYBfM",
        "outputId": "030ca54c-aaf3-450a-fc3f-ebc21d483b39"
      },
      "execution_count": 22,
      "outputs": [
        {
          "output_type": "execute_result",
          "data": {
            "text/plain": [
              "False"
            ]
          },
          "metadata": {},
          "execution_count": 22
        }
      ]
    },
    {
      "cell_type": "code",
      "source": [
        "get_index(data_list2,'Shivam')"
      ],
      "metadata": {
        "colab": {
          "base_uri": "https://localhost:8080/"
        },
        "id": "0STyWlOAYBwk",
        "outputId": "c6938311-9c2c-4abe-b880-d3ea1bfdd80c"
      },
      "execution_count": 23,
      "outputs": [
        {
          "output_type": "execute_result",
          "data": {
            "text/plain": [
              "40"
            ]
          },
          "metadata": {},
          "execution_count": 23
        }
      ]
    },
    {
      "cell_type": "code",
      "source": [
        "# In the above cell, output is 40 because its the sum of each character \n",
        "# obtained by ord function \n",
        "616%48"
      ],
      "metadata": {
        "colab": {
          "base_uri": "https://localhost:8080/"
        },
        "id": "qsOT0n83Yc4b",
        "outputId": "4c4af00e-57bc-4ad0-fa50-aecd183858ce"
      },
      "execution_count": 24,
      "outputs": [
        {
          "output_type": "execute_result",
          "data": {
            "text/plain": [
              "40"
            ]
          },
          "metadata": {},
          "execution_count": 24
        }
      ]
    },
    {
      "cell_type": "markdown",
      "source": [
        "**Inserting key, value pair into hash table**"
      ],
      "metadata": {
        "id": "-W3IEYUbZvI1"
      }
    },
    {
      "cell_type": "code",
      "source": [
        "key, value = 'Uchiha Madara',545445"
      ],
      "metadata": {
        "id": "0JQcQZ0SY0eU"
      },
      "execution_count": 25,
      "outputs": []
    },
    {
      "cell_type": "code",
      "source": [
        "idx=get_index(data_list,key)\n",
        "idx"
      ],
      "metadata": {
        "colab": {
          "base_uri": "https://localhost:8080/"
        },
        "id": "Os99G3GeaBRV",
        "outputId": "27ad49a8-e156-4384-bc24-fcaf8f68ca52"
      },
      "execution_count": 26,
      "outputs": [
        {
          "output_type": "execute_result",
          "data": {
            "text/plain": [
              "1208"
            ]
          },
          "metadata": {},
          "execution_count": 26
        }
      ]
    },
    {
      "cell_type": "code",
      "source": [
        "data_list[idx]=(key,value)"
      ],
      "metadata": {
        "id": "pxwpvyGfaHv7"
      },
      "execution_count": 27,
      "outputs": []
    },
    {
      "cell_type": "code",
      "source": [
        "data_list[1208]"
      ],
      "metadata": {
        "colab": {
          "base_uri": "https://localhost:8080/"
        },
        "id": "2wyPDKCAaSif",
        "outputId": "d2f39653-01ff-4029-c1a8-3710e4e07ca4"
      },
      "execution_count": 28,
      "outputs": [
        {
          "output_type": "execute_result",
          "data": {
            "text/plain": [
              "('Uchiha Madara', 545445)"
            ]
          },
          "metadata": {},
          "execution_count": 28
        }
      ]
    },
    {
      "cell_type": "code",
      "source": [
        "data_list[get_index(data_list,'Ritika')]=('Ritika',8178788)"
      ],
      "metadata": {
        "id": "unuBNZwhaZdS"
      },
      "execution_count": 29,
      "outputs": []
    },
    {
      "cell_type": "code",
      "source": [
        "data_list[612]"
      ],
      "metadata": {
        "colab": {
          "base_uri": "https://localhost:8080/"
        },
        "id": "FxduLhjYa5Kb",
        "outputId": "b5ce8d68-df03-426d-edb6-9987b8c2a2d6"
      },
      "execution_count": 30,
      "outputs": [
        {
          "output_type": "execute_result",
          "data": {
            "text/plain": [
              "('Ritika', 8178788)"
            ]
          },
          "metadata": {},
          "execution_count": 30
        }
      ]
    },
    {
      "cell_type": "markdown",
      "source": [
        "**Find or retrieve value from hash table**"
      ],
      "metadata": {
        "id": "EuVQzTwIbJOu"
      }
    },
    {
      "cell_type": "code",
      "source": [
        "idx=get_index(data_list,'Uchiha Madara')\n",
        "idx"
      ],
      "metadata": {
        "colab": {
          "base_uri": "https://localhost:8080/"
        },
        "id": "swDs4yzka-qa",
        "outputId": "99244614-f36d-4cf5-d2fe-50f20aa0d738"
      },
      "execution_count": 31,
      "outputs": [
        {
          "output_type": "execute_result",
          "data": {
            "text/plain": [
              "1208"
            ]
          },
          "metadata": {},
          "execution_count": 31
        }
      ]
    },
    {
      "cell_type": "code",
      "source": [
        "key,value=data_list[1208]\n",
        "value"
      ],
      "metadata": {
        "colab": {
          "base_uri": "https://localhost:8080/"
        },
        "id": "EJheAjPSbX_T",
        "outputId": "eb851777-e135-4041-f86d-6110c0a8c79d"
      },
      "execution_count": 32,
      "outputs": [
        {
          "output_type": "execute_result",
          "data": {
            "text/plain": [
              "545445"
            ]
          },
          "metadata": {},
          "execution_count": 32
        }
      ]
    },
    {
      "cell_type": "markdown",
      "source": [
        "**Getting list of keys**"
      ],
      "metadata": {
        "id": "HuV-Zb_zbzNa"
      }
    },
    {
      "cell_type": "code",
      "source": [
        "pairs=[i for i in data_list if i is not None]\n",
        "pairs"
      ],
      "metadata": {
        "colab": {
          "base_uri": "https://localhost:8080/"
        },
        "id": "EAiUxSk2bei9",
        "outputId": "6c922809-4fe3-4332-c833-cc85c348d06e"
      },
      "execution_count": 33,
      "outputs": [
        {
          "output_type": "execute_result",
          "data": {
            "text/plain": [
              "[('Ritika', 8178788), ('Uchiha Madara', 545445)]"
            ]
          },
          "metadata": {},
          "execution_count": 33
        }
      ]
    },
    {
      "cell_type": "code",
      "source": [
        "keys=[i[0] for i in data_list if i is not None]\n",
        "keys"
      ],
      "metadata": {
        "colab": {
          "base_uri": "https://localhost:8080/"
        },
        "id": "9zSQZmnOcDCq",
        "outputId": "3c16e95a-ff2e-4129-ad54-80f8203ef2d9"
      },
      "execution_count": 34,
      "outputs": [
        {
          "output_type": "execute_result",
          "data": {
            "text/plain": [
              "['Ritika', 'Uchiha Madara']"
            ]
          },
          "metadata": {},
          "execution_count": 34
        }
      ]
    },
    {
      "cell_type": "markdown",
      "source": [
        "# **Basic Hash Table Implementation**"
      ],
      "metadata": {
        "id": "TQ4L4MyCdOEm"
      }
    },
    {
      "cell_type": "markdown",
      "source": [
        "**Q3. Complete the hash table implementaion below by the following the instructions given**\n",
        "Hint: Insert and update can have identical implementaions."
      ],
      "metadata": {
        "id": "CZOwv4ULdZ0j"
      }
    },
    {
      "cell_type": "code",
      "source": [
        "# Helper function\n",
        "def get_index(data_list,key):\n",
        "    result=0\n",
        "    for i in key:\n",
        "        result+=ord(i)\n",
        "    return result%len(data_list)\n",
        "\n",
        "class BasicHashTable:\n",
        "    # It will take default MAX_HASH_TABLE_SIZE if the calue is not provided\n",
        "    def __init__(self,max_size=MAX_HASH_TABLE_SIZE):\n",
        "        # Create a list of size \"max_size\" with all values None\n",
        "        self.data_list=[None]*max_size\n",
        "    def insert(self,key,value):\n",
        "        # Find index for the key using get_index\n",
        "        idx=get_index(self.data_list,key)\n",
        "        # Store the key value pair at the right index\n",
        "        self.data_list[idx]=key,value\n",
        "    def find(self,key):\n",
        "        # Find the index for the key using get_index\n",
        "        idx=get_index(self.data_list,key)\n",
        "        # Retrieve the data stored at the index\n",
        "        kv=self.data_list[idx]\n",
        "        # Return the value if kv is found else return None\n",
        "        if kv is None:\n",
        "            raise IndexError('key not found')\n",
        "        else:\n",
        "            key,value=kv\n",
        "            return value\n",
        "    def update(self,key,value):\n",
        "        # find the index for the key using get_index\n",
        "        idx=get_index(self.data_list,key)\n",
        "        # store the new key value pair at the right index\n",
        "        self.data_list[idx]=key,value\n",
        "    def list_all(self):\n",
        "        # Extract the key from each key value pair\n",
        "        return [kv[0] for kv in self.data_list if kv is not None]"
      ],
      "metadata": {
        "id": "DycMlVntcKLR"
      },
      "execution_count": 35,
      "outputs": []
    },
    {
      "cell_type": "code",
      "source": [
        "basic_table=BasicHashTable(max_size=1024)\n",
        "# check if the provided size is true or not\n",
        "len(basic_table.data_list)==1024"
      ],
      "metadata": {
        "colab": {
          "base_uri": "https://localhost:8080/"
        },
        "id": "jgIs85GgtE2F",
        "outputId": "b6d509d4-517a-4de6-e852-1205f9b51c7a"
      },
      "execution_count": 36,
      "outputs": [
        {
          "output_type": "execute_result",
          "data": {
            "text/plain": [
              "True"
            ]
          },
          "metadata": {},
          "execution_count": 36
        }
      ]
    },
    {
      "cell_type": "code",
      "source": [
        "# listing all keys\n",
        "basic_table.list_all()"
      ],
      "metadata": {
        "colab": {
          "base_uri": "https://localhost:8080/"
        },
        "id": "MEjm_foxxXc6",
        "outputId": "9005c6be-cae8-43b6-9d26-7ebca6389ba1"
      },
      "execution_count": 37,
      "outputs": [
        {
          "output_type": "execute_result",
          "data": {
            "text/plain": [
              "[]"
            ]
          },
          "metadata": {},
          "execution_count": 37
        }
      ]
    },
    {
      "cell_type": "code",
      "source": [
        "# Insert some values\n",
        "basic_table.insert('Rahul',745)\n",
        "basic_table.insert('Shivam',799)\n",
        "basic_table.insert('Rohan',454)\n",
        "basic_table.insert('Ayush',545)\n",
        "basic_table.insert('Anshu',787)\n",
        "basic_table.insert('Bittu',989)"
      ],
      "metadata": {
        "id": "bDKnfcVGw65r"
      },
      "execution_count": 38,
      "outputs": []
    },
    {
      "cell_type": "code",
      "source": [
        "# listing all keys\n",
        "basic_table.list_all()"
      ],
      "metadata": {
        "colab": {
          "base_uri": "https://localhost:8080/"
        },
        "id": "W849oAekx355",
        "outputId": "89f590e6-724c-4029-fb36-0e80fa23c1f8"
      },
      "execution_count": 39,
      "outputs": [
        {
          "output_type": "execute_result",
          "data": {
            "text/plain": [
              "['Rohan', 'Rahul', 'Anshu', 'Bittu', 'Ayush', 'Shivam']"
            ]
          },
          "metadata": {},
          "execution_count": 39
        }
      ]
    },
    {
      "cell_type": "code",
      "source": [
        "# Finding a value\n",
        "basic_table.find('Anshu')"
      ],
      "metadata": {
        "colab": {
          "base_uri": "https://localhost:8080/"
        },
        "id": "3x0mAsinx5ii",
        "outputId": "6f3a7825-bcfa-42ef-ff39-971c884a2369"
      },
      "execution_count": 40,
      "outputs": [
        {
          "output_type": "execute_result",
          "data": {
            "text/plain": [
              "787"
            ]
          },
          "metadata": {},
          "execution_count": 40
        }
      ]
    },
    {
      "cell_type": "code",
      "source": [
        "# Updating a value\n",
        "basic_table.update('Bittu','077')"
      ],
      "metadata": {
        "id": "BZkWDjJOyJj6"
      },
      "execution_count": 41,
      "outputs": []
    },
    {
      "cell_type": "code",
      "source": [
        "# listing all keys\n",
        "basic_table.list_all()"
      ],
      "metadata": {
        "colab": {
          "base_uri": "https://localhost:8080/"
        },
        "id": "JHwrjMIoyXag",
        "outputId": "9be542ba-67be-4bc3-b750-a4804b90f7f0"
      },
      "execution_count": 42,
      "outputs": [
        {
          "output_type": "execute_result",
          "data": {
            "text/plain": [
              "['Rohan', 'Rahul', 'Anshu', 'Bittu', 'Ayush', 'Shivam']"
            ]
          },
          "metadata": {},
          "execution_count": 42
        }
      ]
    },
    {
      "cell_type": "markdown",
      "source": [
        "# **Handling collisions with linear probing**"
      ],
      "metadata": {
        "id": "5ID0KxmV0LrM"
      }
    },
    {
      "cell_type": "code",
      "source": [
        "get_index(data_list,'listen'),get_index(data_list,'silent')"
      ],
      "metadata": {
        "colab": {
          "base_uri": "https://localhost:8080/"
        },
        "id": "-C-_5cXxydFn",
        "outputId": "41445cf9-9479-4af1-a414-2133ac4b2510"
      },
      "execution_count": 43,
      "outputs": [
        {
          "output_type": "execute_result",
          "data": {
            "text/plain": [
              "(655, 655)"
            ]
          },
          "metadata": {},
          "execution_count": 43
        }
      ]
    },
    {
      "cell_type": "code",
      "source": [
        "basic_table.insert('listen',99)"
      ],
      "metadata": {
        "id": "UUtRH88A1K8R"
      },
      "execution_count": 44,
      "outputs": []
    },
    {
      "cell_type": "code",
      "source": [
        "basic_table.insert('silent',200)"
      ],
      "metadata": {
        "id": "9IB3VCFg1Vdn"
      },
      "execution_count": 45,
      "outputs": []
    },
    {
      "cell_type": "code",
      "source": [
        "basic_table.find('listen')"
      ],
      "metadata": {
        "colab": {
          "base_uri": "https://localhost:8080/"
        },
        "id": "bvkaJwlg1YjV",
        "outputId": "9386beaf-f256-46a4-8bd4-4efb8c139fbe"
      },
      "execution_count": 46,
      "outputs": [
        {
          "output_type": "execute_result",
          "data": {
            "text/plain": [
              "200"
            ]
          },
          "metadata": {},
          "execution_count": 46
        }
      ]
    },
    {
      "cell_type": "markdown",
      "source": [
        "Q4. Complete the function get_valid_index below by following the instructions in the comments "
      ],
      "metadata": {
        "id": "Vptce2Fv15fd"
      }
    },
    {
      "cell_type": "code",
      "source": [
        "# Helper function\n",
        "def get_index(data_list,key):\n",
        "    result=0\n",
        "    for i in key:\n",
        "        result+=ord(i)\n",
        "    return result%len(data_list)\n",
        "\n",
        "def get_valid_index(data_list,key):\n",
        "    # Start with the index returned by get_index\n",
        "    idx=get_index(data_list,key)\n",
        "    while True:\n",
        "        # Get the key-value pair stored at idx\n",
        "        kv=data_list[idx]\n",
        "        # If it is None return the index\n",
        "        if kv is None:\n",
        "            return idx\n",
        "        # If the stored key matches the given key, return the index\n",
        "        k,v=kv\n",
        "        if k==key:\n",
        "            return idx\n",
        "        # Move to the next index\n",
        "        idx+=1\n",
        "        # Go back to the start if you have reached the end of the array\n",
        "        if idx==len(data_list):\n",
        "            idx=0 \n",
        "\n",
        "class ProbingHashTable:\n",
        "    # It will take default MAX_HASH_TABLE_SIZE if the calue is not provided\n",
        "    def __init__(self,max_size=MAX_HASH_TABLE_SIZE):\n",
        "        # Create a list of size \"max_size\" with all values None\n",
        "        self.data_list=[None]*max_size\n",
        "    def insert(self,key,value):\n",
        "        # Find index for the key using get_index\n",
        "        idx=get_valid_index(self.data_list,key)\n",
        "        # Store the key value pair at the right index\n",
        "        self.data_list[idx]=key,value\n",
        "    def find(self,key):\n",
        "        # Find the index for the key using get_index\n",
        "        idx=get_valid_index(self.data_list,key)\n",
        "        # Retrieve the data stored at the index\n",
        "        kv=self.data_list[idx]\n",
        "        # Return the value if kv is found else return None\n",
        "        if kv is None:\n",
        "            raise IndexError('key not found')\n",
        "        else:\n",
        "            key,value=kv\n",
        "            return value\n",
        "    def update(self,key,value):\n",
        "        # find the index for the key using get_index\n",
        "        idx=get_valid_index(self.data_list,key)\n",
        "        # store the new key value pair at the right index\n",
        "        self.data_list[idx]=key,value\n",
        "    def list_all(self):\n",
        "        # Extract the key from each key value pair\n",
        "        return [kv[0] for kv in self.data_list if kv is not None]"
      ],
      "metadata": {
        "id": "VU6FbV1y1c3S"
      },
      "execution_count": 47,
      "outputs": []
    },
    {
      "cell_type": "code",
      "source": [
        "basic_table2=ProbingHashTable(max_size=1024)\n",
        "# check if the provided size is true or not\n",
        "len(basic_table.data_list)==1024"
      ],
      "metadata": {
        "colab": {
          "base_uri": "https://localhost:8080/"
        },
        "id": "LB7EHHe64l6x",
        "outputId": "18c00127-f644-41b4-f785-030ceb0f6cd3"
      },
      "execution_count": 48,
      "outputs": [
        {
          "output_type": "execute_result",
          "data": {
            "text/plain": [
              "True"
            ]
          },
          "metadata": {},
          "execution_count": 48
        }
      ]
    },
    {
      "cell_type": "code",
      "source": [
        "basic_table2.insert('listen',99)"
      ],
      "metadata": {
        "id": "-XVLkTLv4af-"
      },
      "execution_count": 49,
      "outputs": []
    },
    {
      "cell_type": "code",
      "source": [
        "basic_table2.insert('silent',200)"
      ],
      "metadata": {
        "id": "22u2FeNH4dyx"
      },
      "execution_count": 50,
      "outputs": []
    },
    {
      "cell_type": "code",
      "source": [
        "basic_table2.find('listen')"
      ],
      "metadata": {
        "colab": {
          "base_uri": "https://localhost:8080/"
        },
        "id": "A9DYIHMr4fvN",
        "outputId": "1d4c1b8e-a6c8-4f84-e6de-0cfc87a2b20a"
      },
      "execution_count": 51,
      "outputs": [
        {
          "output_type": "execute_result",
          "data": {
            "text/plain": [
              "99"
            ]
          },
          "metadata": {},
          "execution_count": 51
        }
      ]
    },
    {
      "cell_type": "code",
      "source": [
        "basic_table2.find('silent')"
      ],
      "metadata": {
        "colab": {
          "base_uri": "https://localhost:8080/"
        },
        "id": "boenQg0V4iYd",
        "outputId": "8d910e71-d575-403d-d277-f465bb3ee0b7"
      },
      "execution_count": 52,
      "outputs": [
        {
          "output_type": "execute_result",
          "data": {
            "text/plain": [
              "200"
            ]
          },
          "metadata": {},
          "execution_count": 52
        }
      ]
    }
  ]
}